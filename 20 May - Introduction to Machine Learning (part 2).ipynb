{
  "nbformat": 4,
  "nbformat_minor": 0,
  "metadata": {
    "colab": {
      "name": "Introduction to Machine Learning (part 2).ipynb",
      "version": "0.3.2",
      "provenance": [],
      "collapsed_sections": [],
      "include_colab_link": true
    },
    "kernelspec": {
      "name": "python3",
      "display_name": "Python 3"
    }
  },
  "cells": [
    {
      "cell_type": "markdown",
      "metadata": {
        "id": "view-in-github",
        "colab_type": "text"
      },
      "source": [
        "<a href=\"https://colab.research.google.com/github/arunk-vnk-chn/insaid-interview-questions/blob/master/20%20May%20-%20Introduction%20to%20Machine%20Learning%20(part%202).ipynb\" target=\"_parent\"><img src=\"https://colab.research.google.com/assets/colab-badge.svg\" alt=\"Open In Colab\"/></a>"
      ]
    },
    {
      "cell_type": "markdown",
      "metadata": {
        "id": "hMKik6Dj_RHm",
        "colab_type": "text"
      },
      "source": [
        "\n",
        "# 20 May – Introduction to Machine Learning (part 2)"
      ]
    },
    {
      "cell_type": "markdown",
      "metadata": {
        "id": "WE9nIZeF_t-G",
        "colab_type": "text"
      },
      "source": [
        "**1.\tTop 100 data science interview questions link (could cover 60-70% of questions asked in interviews)**\n",
        "*   http://nitin-panwar.github.io/Top-100-Data-science-interview-questions/\n",
        "\n",
        "*   https://www.edureka.co/blog/interview-questions/data-science-interview-questions/\n"
      ]
    },
    {
      "cell_type": "markdown",
      "metadata": {
        "id": "SLQNU1nV_xiT",
        "colab_type": "text"
      },
      "source": [
        "**2.\tTypical interview process**\n",
        "*   Round 1: Programming test using hackerrank or codility (may be skipped for general roles like data scientist or decision scientist, but very frequent for ML engineer, data science developer etc.)\n",
        "*   Round 2: Case study on a business problem (very typical for a data scientist role)\n",
        "*   Round 3: Detailed interview with senior data scientist"
      ]
    },
    {
      "cell_type": "markdown",
      "metadata": {
        "id": "dxq2usnH_4pf",
        "colab_type": "text"
      },
      "source": [
        "**3.\tWhat is the data science workflow, or life cycle of ML projects, or how do we execute a ML project end to end?**\n",
        "*   It is important to adhere to the below flow strictly while doing any ML project. It is a cyclic process, where the project across different phases till the business requirement is satisfied."
        "source": [
        "<img src=\"images/ML project (source - INSAID).jpg\"/>"
      ]
      ]
    },
    {
      "cell_type": "markdown",
      "metadata": {
        "id": "mG7hHGrKAVtg",
        "colab_type": "text"
      },
      "source": [
        "**4.\tGood question to ask interviewer: Does the company/department work majorly on POC (proof of concept) projects or actual production projects? What are the projects or products being developed?**\n",
        "*\tFor a good career progression, it is suggested to join a company where production projects are happening. As POC projects only happen for 3 to 6 months and don’t proceed further. There is more learning in end to end projects. Most end to end projects are happening at internet companies / start-ups. However they could pose a challenge for work-life balance."
      ]
    },
    {
      "cell_type": "markdown",
      "metadata": {
        "id": "Xjq0AXsbAdwW",
        "colab_type": "text"
      },
      "source": [
        "**5.\tWhat is a data lake?**\n",
        "*\tA data lake is a singular representation of data from different sources which enables to carry on any analytical cycle or data science cycle over it. These involve data engineers.\n"
      ]
    },
    {
      "cell_type": "markdown",
      "metadata": {
        "id": "kueN_snlAkIo",
        "colab_type": "text"
      },
      "source": [
        "\n",
        "\n",
        "**6.\tWhat is hypothesis testing?**\n",
        "*\tNoting down rules business domain suggests or establishes to make a prediction and then checking if the data supports that or not.\n",
        "\n"
      ]
    },
    {
      "cell_type": "markdown",
      "metadata": {
        "id": "Zyqn_m5xAmW5",
        "colab_type": "text"
      },
      "source": [
        "**7.\tWhat is EDA (exploratory data analysis)?**\n",
        "*\tTrying to obtain different insights from the data, generally done by trying different graphs to identify relationships between variables. This may be part of the hypothesis given by the business or something new figured by analysing the data. EDA has no limited scope and is open-ended."
      ]
    },
    {
      "cell_type": "markdown",
      "metadata": {
        "id": "5IZxJ6BvAoPa",
        "colab_type": "text"
      },
      "source": [
        "**8.\tIs it preferable to do a prediction with lower number of features or higher?**\n",
        "*\tLesser the better, because lesser features will have a lesser dependency on different inputs. It has to be optimum to ensure neither is important information ignored nor is too much noise added."
      ]
    },
    {
      "cell_type": "markdown",
      "metadata": {
        "id": "_pz5M2pRAqHZ",
        "colab_type": "text"
      },
      "source": [
        "**9.\tWhat is feature engineering?**\n",
        "*\tCreating relevant features or deriving KPIs by a mathematical combination of multiple columns. This helps optimise the number of features required for prediction.\n"
      ]
    },
    {
      "cell_type": "markdown",
      "metadata": {
        "id": "_bBgWXNVAsuX",
        "colab_type": "text"
      },
      "source": [
        "**10.\tCan feature selection be automated?**\n",
        "*\tYes and no. It is a process which requires human intervention, however there are some tools which can automate some parts of the process.\n"
      ]
    },
    {
      "cell_type": "markdown",
      "metadata": {
        "id": "bMBhUKRFAt8a",
        "colab_type": "text"
      },
      "source": [
        "**11.\tWhat is the difference between regression and classification?**\n",
        "*\tIn supervised learning, regression is when we are predicting a continuous number (uncountable) while classification is when we are trying to assign a discrete category (countable).\n"
      ]
    },
    {
      "cell_type": "markdown",
      "metadata": {
        "id": "QiciJa1zAvF6",
        "colab_type": "text"
      },
      "source": [
        "**12.\tWhat is regression?**\n",
        "*\tA predictive modelling technique which investigates the relationship between a dependent variable and one or more independent variables.\n"
      ]
    },
    {
      "cell_type": "markdown",
      "metadata": {
        "id": "Taz25TxHAwMD",
        "colab_type": "text"
      },
      "source": [
        "**13.\tWhat is linear regression?**\n",
        "*\tA regression in which the relationship between the dependent variable and all the independent variables is of the first degree.\n",
        "\n"
      ]
    },
    {
      "cell_type": "markdown",
      "metadata": {
        "id": "Ohms8PB1AxOg",
        "colab_type": "text"
      },
      "source": [
        "**14.\tWhen is a model said to be robust or flexible?**\n",
        "*\tA model is robust or flexible if it can adapt well to new data. Therefore it has to be optimum and not over-fit the current data. Flexibility also supports easy interpretability to business.\n"
      ]
    },
    {
      "cell_type": "markdown",
      "metadata": {
        "id": "qOLjvxd3AyaG",
        "colab_type": "text"
      },
      "source": [
        "**15.\tWhat is the difference between a model and an algorithm?**\n",
        "*\tAn algorithm is a set of steps and could indicate a model or the entire process of an ML project.\n"
      ]
    }
  ]
}
