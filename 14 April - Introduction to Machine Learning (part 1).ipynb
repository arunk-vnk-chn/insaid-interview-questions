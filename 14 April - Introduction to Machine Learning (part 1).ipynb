{
  "nbformat": 4,
  "nbformat_minor": 0,
  "metadata": {
    "colab": {
      "name": "14 April - Introduction to Machine Learning (part 1).ipynb",
      "version": "0.3.2",
      "provenance": [],
      "collapsed_sections": [],
      "include_colab_link": true
    },
    "kernelspec": {
      "name": "python3",
      "display_name": "Python 3"
    }
  },
  "cells": [
    {
      "cell_type": "markdown",
      "metadata": {
        "id": "view-in-github",
        "colab_type": "text"
      },
      "source": [
        "<a href=\"https://colab.research.google.com/github/arunk-vnk-chn/insaid-interview-questions/blob/master/14%20April%20-%20Introduction%20to%20Machine%20Learning%20(part%201).ipynb\" target=\"_parent\"><img src=\"https://colab.research.google.com/assets/colab-badge.svg\" alt=\"Open In Colab\"/></a>"
      ]
    },
    {
      "cell_type": "markdown",
      "metadata": {
        "id": "HilCjRhfGbPQ",
        "colab_type": "text"
      },
      "source": [
        "\n",
        "# 14 April – Introduction to Machine Learning (part 1)"
      ]
    },
    {
      "cell_type": "markdown",
      "metadata": {
        "id": "GSRufsHGGgxr",
        "colab_type": "text"
      },
      "source": [
        "**1.\tWhat is the difference between AI, machine learning and deep learning?**\n",
        "\n",
        "\n",
        "* AI is nothing but the automation of cognition that humans have (humans can see, read, listen, speak, think, touch, feel etc.). Think, touch and feel are part of AGI (artificial general intelligence) as these are higher cognition activities. The other activities are relatively easy to automate and have been done to some competent level.\n",
        "\n",
        "\n",
        "* AI is an umbrella term used for both cognitive and data automation, but data automation is not strictly AI (they can be ML / DL which are subsets of AI).\n",
        "\n",
        "\n",
        "* There are 3 categorizations of AI: Reinforcement learning, deep learning and machine learning.\n",
        "Reinforcement learning provides an elements of human learning, wherein there is constant feedback whenever we learn. Deep learning and machine learning both can do data automation. However deep learning has a capability to go beyond data automation to cognitive automation whereas machine learning doesn’t.\n",
        "\n",
        "\n",
        "* Another important difference is that reinforcement learning has the shortest time delta in terms of feedback while machine learning has the highest.\n"
      ]
    },
    {
      "cell_type": "markdown",
      "metadata": {
        "id": "LOx6VQgpG2mm",
        "colab_type": "text"
      },
      "source": [
        "**2.\tWhy is there a hype in AI in recent years?**\n",
        "\n",
        "\n",
        "* This is due to two reasons – i) reduced cost of computing, storage and networking, and ii) availability of huge amounts of data with organizations collected from personal laptops and mobiles."
      ]
    },
    {
      "cell_type": "markdown",
      "metadata": {
        "id": "kEDz50VcG_1Y",
        "colab_type": "text"
      },
      "source": [
        "**3.\tWhat is data science?**\n",
        "\n",
        "* Science involves formulating a hypothesis and conducting experiments that prove or disprove the hypothesis. Data science involves taking a data problem, formulating a business hypothesis, experimenting using different tools (python, spark, statistics, deep learning, machine learning, reinforcement learning etc.) and record observations until you can conclusively to prove or disprove the hypothesis."
      ]
    },
    {
      "cell_type": "markdown",
      "metadata": {
        "id": "seGXU12zHFvV",
        "colab_type": "text"
      },
      "source": [
        "**4.\tGiven a use case, can this be solved using machine learning or do we need deep learning?**\n",
        "\n",
        "* Depending on the use case, deep learning can be overkill in some areas or be required to solve the problem."
      ]
    },
    {
      "cell_type": "markdown",
      "metadata": {
        "id": "DFYxW6DkHMol",
        "colab_type": "text"
      },
      "source": [
        "**5.\tWhat is the difference between statistics and machine learning?**\n",
        "\n",
        "* There are three concepts here: statistics, statistical modelling and machine learning.\n",
        "\n",
        "* Firstly, statistics and statistical models are not the same.\n",
        "\n",
        "* Statistics is the mathematical study of data. You cannot do statistics unless you have data. A statistical model is a model for the data that is used either to infer something about the relationships within the data or to create a model that is able to predict future values. Often, these two go hand-in-hand.\n",
        "\n",
        "* Machine learning is built upon a statistical framework but also draws upon a large number of other fields of mathematics and computer science.\n",
        "\n",
        "* There are lots of statistical models that can make predictions, but predictive accuracy is not their strength. Machine learning models provide various degrees of interpretability but they generally sacrifice interpretability for predictive power. The purpose of machine learning is obtaining a model that can make repeatable predictions.\n",
        "\n",
        "* Machine learning is all about results, whereas statistical modelling is more about finding relationships between variables and the significance of those relationships, whilst also catering for prediction.\n"
      ]
    },
    {
      "cell_type": "markdown",
      "metadata": {
        "id": "em2j-KIRHdeu",
        "colab_type": "text"
      },
      "source": [
        "**6.\tWhat is ETP cycle? What do experience (E), task (T) and performance measure (P) mean in the context of a computer or machine learning algorithm?**\n",
        "\n",
        "* •\tExperience means the X variables (i.e., independent variables). Task is the goal of the algorithm, which is the variable we are trying to predict. Performance measure is the measure of how good the machine learning algorithm performs the task."
      ]
    },
    {
      "cell_type": "markdown",
      "metadata": {
        "id": "SiEStM0pHhpf",
        "colab_type": "text"
      },
      "source": [
        "**7.\tWhat are different names used for the X and Y variables in machine learning?**\n",
        "\n",
        "* X – Input / feature / experience.\n",
        "\n",
        "* Y – Label / class / task.\n"
      ]
    },
    {
      "cell_type": "markdown",
      "metadata": {
        "id": "TE0g5KNXHnw5",
        "colab_type": "text"
      },
      "source": [
        "**8.\tWhat are the two methods of performance measure of a computer or machine learning algorithm?**\n",
        "\n",
        "* Model algorithmic evaluation and business evaluation. Algorithmic evaluations are empirical methods whereas business evaluations depend on the use case."
      ]
    },
    {
      "cell_type": "markdown",
      "metadata": {
        "id": "cePuT83UHu2u",
        "colab_type": "text"
      },
      "source": [
        "**9.\tWhat are supervised and unsupervised learning?**\n",
        "\n",
        "*\tIf the task T or Y variable (label or target variable) is removed from the problem Y = f(X), that is called unsupervised learning. We are trying to identify inherent patterns from the data.\n",
        "\n",
        "* If the task T is known (i.e., Y is available and identified), it is called supervised learning.\n",
        "\n",
        "* This distinction is important as there are specific algorithms corresponding to each of the two end-goals. Unsupervised learning is tougher because without a task, a performance measure is not available.\n",
        "\n",
        "* These categorizations are present in both machine learning and deep learning."
      ]
    },
    {
      "cell_type": "markdown",
      "metadata": {
        "id": "i-QA7A1QH-Oc",
        "colab_type": "text"
      },
      "source": [
        "**10.\tWhat are some example algorithms for supervised and unsupervised learning?**\n",
        "\n",
        "*\tSupervised: Linear regression, logistic regression, decision tree, random forest, k nearest neighbours, naïve bayes, support vector machines.\n",
        "\n",
        "* Unsupervised: K means clustering, association rules.\n"
      ]
    }
  ]
}